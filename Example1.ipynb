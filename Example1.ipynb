{
 "cells": [
  {
   "cell_type": "code",
   "execution_count": 1,
   "metadata": {},
   "outputs": [
    {
     "name": "stdout",
     "output_type": "stream",
     "text": [
      "importing Jupyter notebook from LST_Landsat.ipynb\n",
      "importing Jupyter notebook from NCEP_TWP.ipynb\n",
      "importing Jupyter notebook from SMWalgorithm.ipynb\n",
      "importing Jupyter notebook from SMW_coefficients.ipynb\n",
      "importing Jupyter notebook from Compute_emmisibity.ipynb\n",
      "importing Jupyter notebook from ASTER_bare_emission.ipynb\n",
      "importing Jupyter notebook from Compute_FVC.ipynb\n",
      "importing Jupyter notebook from Compute_NDVI.ipynb\n",
      "importing Jupyter notebook from cloudmask.ipynb\n"
     ]
    },
    {
     "name": "stderr",
     "output_type": "stream",
     "text": [
      "IOPub data rate exceeded.\n",
      "The notebook server will temporarily stop sending output\n",
      "to the client in order to avoid crashing it.\n",
      "To change this limit, set the config variable\n",
      "`--NotebookApp.iopub_data_rate_limit`.\n",
      "\n",
      "Current values:\n",
      "NotebookApp.iopub_data_rate_limit=1000000.0 (bytes/sec)\n",
      "NotebookApp.rate_limit_window=3.0 (secs)\n",
      "\n"
     ]
    },
    {
     "data": {
      "application/vnd.jupyter.widget-view+json": {
       "model_id": "",
       "version_major": 2,
       "version_minor": 0
      },
      "text/plain": [
       "Map(center=[40.20020355118321, -8.605000000000457], controls=(WidgetControl(options=['position'], widget=HBox(…"
      ]
     },
     "metadata": {},
     "output_type": "display_data"
    }
   ],
   "source": [
    "import ee\n",
    "import geemap\n",
    "ee.Initialize()\n",
    "\n",
    "import import_ipynb\n",
    "import LST_Landsat as LandsatLST\n",
    "import os\n",
    "from os import walk\n",
    "\n",
    "Map = geemap.Map()\n",
    "\n",
    "# select region of interest, date range, and landsat satellite\n",
    "geometry = ee.Geometry.Rectangle([-8.91, 40.0, -8.3, 40.4])\n",
    "satellite = 'L8'\n",
    "date_start = '2015-05-15'\n",
    "date_end = '2018-10-31'\n",
    "use_ndvi = True\n",
    "\n",
    "# get landsat collection with added variables: NDVI, FVC, TPW, EM, LST\n",
    "LandsatColl = LandsatLST.collection(satellite, date_start, date_end, geometry, use_ndvi)\n",
    "print(LandsatColl)\n",
    "\n",
    "# select the first feature\n",
    "exImage = LandsatColl.first()\n",
    "\n",
    "cmap1 = ['blue', 'cyan', 'green', 'yellow', 'red']\n",
    "cmap2 = ['F2F2F2','EFC2B3','ECB176','E9BD3A','E6E600','63C600','00A600']\n",
    "\n",
    "\n",
    "Map.centerObject(geometry)\n",
    "Map.addLayer(exImage.select('TPW'),{'min':0.0, 'max':60.0, 'palette':cmap1},'TCWV')\n",
    "Map.addLayer(exImage.select('TPWpos'),{'min':0.0, 'max':9.0, 'palette':cmap1},'TCWVpos')\n",
    "Map.addLayer(exImage.select('FVC'),{'min':0.0, 'max':1.0, 'palette':cmap2}, 'FVC')\n",
    "Map.addLayer(exImage.select('EM'),{'min':0.9, 'max':1.0, 'palette':cmap1}, 'Emissivity')\n",
    "Map.addLayer(exImage.select('B10'),{'min':290, 'max':320, 'palette':cmap1}, 'TIR BT')\n",
    "Map.addLayer(exImage.select('LST'),{'min':290, 'max':320, 'palette':cmap1}, 'LST')\n",
    "Map.addLayer(exImage.multiply(0.0001),{'bands': ['B4',  'B3',  'B2'], 'min':0, 'max':0.3}, 'RGB')\n",
    "Map"
   ]
  },
  {
   "cell_type": "code",
   "execution_count": 2,
   "metadata": {},
   "outputs": [],
   "source": [
    "LandsatColl_list=LandsatColl.toList(LandsatColl.size())"
   ]
  },
  {
   "cell_type": "code",
   "execution_count": 3,
   "metadata": {},
   "outputs": [],
   "source": [
    "n=LandsatColl_list.size().getInfo()"
   ]
  },
  {
   "cell_type": "code",
   "execution_count": 4,
   "metadata": {},
   "outputs": [
    {
     "name": "stdout",
     "output_type": "stream",
     "text": [
      "15\n"
     ]
    }
   ],
   "source": [
    "print(n)"
   ]
  },
  {
   "cell_type": "code",
   "execution_count": 5,
   "metadata": {},
   "outputs": [],
   "source": [
    "out_dir=r\"C:\\Users\\Acer\\Desktop\\Anup upwork googe earth\\geotiff files\""
   ]
  },
  {
   "cell_type": "code",
   "execution_count": 6,
   "metadata": {},
   "outputs": [
    {
     "name": "stdout",
     "output_type": "stream",
     "text": [
      "LANDSAT/LC08/C01/T1_SR/LC08_204032_20180517\n",
      "20180517\n",
      "Generating URL ...\n",
      "Downloading data from https://earthengine.googleapis.com/v1alpha/projects/earthengine-legacy/thumbnails/95f97462e540cd901c2710ddb12f3d73-0fa476af309d18affc0e42298c960e93:getPixels\n",
      "Please wait ...\n",
      "Data downloaded to C:\\Users\\Acer\\Desktop\\Anup upwork googe earth\\geotiff files\\LST_20180517.tif\n",
      "LANDSAT/LC08/C01/T1_SR/LC08_204032_20180602\n",
      "20180602\n",
      "Generating URL ...\n",
      "Downloading data from https://earthengine.googleapis.com/v1alpha/projects/earthengine-legacy/thumbnails/7e13edc97846c3c7d836241d55e56cfc-67ab8794191c8bb0f9eaf41d9ace0cd3:getPixels\n",
      "Please wait ...\n",
      "Data downloaded to C:\\Users\\Acer\\Desktop\\Anup upwork googe earth\\geotiff files\\LST_20180602.tif\n",
      "LANDSAT/LC08/C01/T1_SR/LC08_204032_20180618\n",
      "20180618\n",
      "Generating URL ...\n",
      "Downloading data from https://earthengine.googleapis.com/v1alpha/projects/earthengine-legacy/thumbnails/dabf3ccb5ea62c6f98158337b61adf0a-f96965a44336fba2be82d6cf93aee5f2:getPixels\n",
      "Please wait ...\n",
      "Data downloaded to C:\\Users\\Acer\\Desktop\\Anup upwork googe earth\\geotiff files\\LST_20180618.tif\n",
      "LANDSAT/LC08/C01/T1_SR/LC08_204032_20180704\n",
      "20180704\n",
      "Generating URL ...\n",
      "Downloading data from https://earthengine.googleapis.com/v1alpha/projects/earthengine-legacy/thumbnails/021be71a2735434181eadab695532686-d5c2086bd40162cbaaa4a3a52ce2e0c1:getPixels\n",
      "Please wait ...\n",
      "Data downloaded to C:\\Users\\Acer\\Desktop\\Anup upwork googe earth\\geotiff files\\LST_20180704.tif\n",
      "LANDSAT/LC08/C01/T1_SR/LC08_204032_20180720\n",
      "20180720\n",
      "Generating URL ...\n",
      "Downloading data from https://earthengine.googleapis.com/v1alpha/projects/earthengine-legacy/thumbnails/7d0680c8277897ea48e2b919693ebf01-60b7dc2c1000c28e6cbfc39607e26c23:getPixels\n",
      "Please wait ...\n",
      "Data downloaded to C:\\Users\\Acer\\Desktop\\Anup upwork googe earth\\geotiff files\\LST_20180720.tif\n",
      "LANDSAT/LC08/C01/T1_SR/LC08_204032_20180805\n",
      "20180805\n",
      "Generating URL ...\n",
      "Downloading data from https://earthengine.googleapis.com/v1alpha/projects/earthengine-legacy/thumbnails/ec527abebf40aa6dced788cb7fec863f-6de7696d7f3a443b7106ca5fc281e0d8:getPixels\n",
      "Please wait ...\n",
      "Data downloaded to C:\\Users\\Acer\\Desktop\\Anup upwork googe earth\\geotiff files\\LST_20180805.tif\n",
      "LANDSAT/LC08/C01/T1_SR/LC08_204032_20180821\n",
      "20180821\n",
      "Generating URL ...\n",
      "Downloading data from https://earthengine.googleapis.com/v1alpha/projects/earthengine-legacy/thumbnails/74ab8e24d5e874fb6762dc32155c5391-7b490dbeb33f10bb9a2aaeaa1af7e04e:getPixels\n",
      "Please wait ...\n",
      "Data downloaded to C:\\Users\\Acer\\Desktop\\Anup upwork googe earth\\geotiff files\\LST_20180821.tif\n",
      "LANDSAT/LC08/C01/T1_SR/LC08_204032_20180906\n",
      "20180906\n",
      "Generating URL ...\n",
      "Downloading data from https://earthengine.googleapis.com/v1alpha/projects/earthengine-legacy/thumbnails/0f42ab9e6e6564fb508641e1d55240eb-fb607dc0490773b87624973fa967d3d6:getPixels\n",
      "Please wait ...\n",
      "Data downloaded to C:\\Users\\Acer\\Desktop\\Anup upwork googe earth\\geotiff files\\LST_20180906.tif\n",
      "LANDSAT/LC08/C01/T1_SR/LC08_204032_20180922\n",
      "20180922\n",
      "Generating URL ...\n",
      "Downloading data from https://earthengine.googleapis.com/v1alpha/projects/earthengine-legacy/thumbnails/4a4a14c5f4429f2bd4527c567b8e0386-8894ec0a70501419f16c6787afd699e7:getPixels\n",
      "Please wait ...\n",
      "Data downloaded to C:\\Users\\Acer\\Desktop\\Anup upwork googe earth\\geotiff files\\LST_20180922.tif\n",
      "LANDSAT/LC08/C01/T1_SR/LC08_204032_20181008\n",
      "20181008\n",
      "Generating URL ...\n",
      "Downloading data from https://earthengine.googleapis.com/v1alpha/projects/earthengine-legacy/thumbnails/d07ee3ca5118f22f2e1b2a64c0194aad-e8aa5e1ebf2ab111ec41af2bb1a01afe:getPixels\n",
      "Please wait ...\n",
      "Data downloaded to C:\\Users\\Acer\\Desktop\\Anup upwork googe earth\\geotiff files\\LST_20181008.tif\n",
      "LANDSAT/LC08/C01/T1_SR/LC08_204032_20181024\n",
      "20181024\n",
      "Generating URL ...\n",
      "Downloading data from https://earthengine.googleapis.com/v1alpha/projects/earthengine-legacy/thumbnails/e859dcad9446fe84802f24125419fe07-a9e3aea4b334e83c1118edc80308e75e:getPixels\n",
      "Please wait ...\n",
      "Data downloaded to C:\\Users\\Acer\\Desktop\\Anup upwork googe earth\\geotiff files\\LST_20181024.tif\n",
      "LANDSAT/LC08/C01/T1_SR/LC08_205032_20180727\n",
      "20180727\n",
      "Generating URL ...\n",
      "Downloading data from https://earthengine.googleapis.com/v1alpha/projects/earthengine-legacy/thumbnails/e7d5c52d80cb38cdb6a968d9b28114ec-500d6675f784952199d23098944a5742:getPixels\n",
      "Please wait ...\n",
      "Data downloaded to C:\\Users\\Acer\\Desktop\\Anup upwork googe earth\\geotiff files\\LST_20180727.tif\n",
      "LANDSAT/LC08/C01/T1_SR/LC08_205032_20180812\n",
      "20180812\n",
      "Generating URL ...\n",
      "Downloading data from https://earthengine.googleapis.com/v1alpha/projects/earthengine-legacy/thumbnails/890c4b729b317d0cd7cec6db53c4b358-f7b1aacfe565873d2fd97323b04e8a56:getPixels\n",
      "Please wait ...\n",
      "Data downloaded to C:\\Users\\Acer\\Desktop\\Anup upwork googe earth\\geotiff files\\LST_20180812.tif\n",
      "LANDSAT/LC08/C01/T1_SR/LC08_205032_20180913\n",
      "20180913\n",
      "Generating URL ...\n",
      "Downloading data from https://earthengine.googleapis.com/v1alpha/projects/earthengine-legacy/thumbnails/45629ba1c03721453f1a610b9cf7544a-4770b4eefff330b4e327525678d97273:getPixels\n",
      "Please wait ...\n",
      "Data downloaded to C:\\Users\\Acer\\Desktop\\Anup upwork googe earth\\geotiff files\\LST_20180913.tif\n",
      "LANDSAT/LC08/C01/T1_SR/LC08_205032_20180929\n",
      "20180929\n",
      "Generating URL ...\n",
      "Downloading data from https://earthengine.googleapis.com/v1alpha/projects/earthengine-legacy/thumbnails/97160a9ece829f748b8b243bb3637259-21e869c93bc7bb383acd1ebd6fd5f5ee:getPixels\n",
      "Please wait ...\n",
      "Data downloaded to C:\\Users\\Acer\\Desktop\\Anup upwork googe earth\\geotiff files\\LST_20180929.tif\n"
     ]
    }
   ],
   "source": [
    "for i in range(0,n,1):\n",
    "    img=ee.Image(LandsatColl_list.get(i))\n",
    "    LST=img.select(\"LST\")\n",
    "    LST_dict=(LST.getInfo())\n",
    "    id_=LST_dict.get(\"id\")\n",
    "    print(id_)\n",
    "    date= id_[-8:]\n",
    "    print(date)\n",
    "    vis={'min':290, 'max':320, 'palette':cmap1}\n",
    "    final_LST=LST.visualize(**vis)\n",
    "\n",
    "    filename = os.path.join(out_dir, \"LST_\"+date+'.tif')\n",
    "    geemap.ee_export_image(final_LST, filename=filename)\n",
    "    Map.addLayer(final_LST)\n",
    "   "
   ]
  },
  {
   "cell_type": "code",
   "execution_count": null,
   "metadata": {},
   "outputs": [],
   "source": [
    "Map"
   ]
  },
  {
   "cell_type": "code",
   "execution_count": null,
   "metadata": {},
   "outputs": [],
   "source": []
  },
  {
   "cell_type": "code",
   "execution_count": null,
   "metadata": {},
   "outputs": [],
   "source": []
  },
  {
   "cell_type": "code",
   "execution_count": null,
   "metadata": {},
   "outputs": [],
   "source": []
  }
 ],
 "metadata": {
  "kernelspec": {
   "display_name": "Python 3",
   "language": "python",
   "name": "python3"
  },
  "language_info": {
   "codemirror_mode": {
    "name": "ipython",
    "version": 3
   },
   "file_extension": ".py",
   "mimetype": "text/x-python",
   "name": "python",
   "nbconvert_exporter": "python",
   "pygments_lexer": "ipython3",
   "version": "3.7.9"
  }
 },
 "nbformat": 4,
 "nbformat_minor": 4
}
