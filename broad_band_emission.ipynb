{
 "cells": [
  {
   "cell_type": "code",
   "execution_count": 2,
   "metadata": {},
   "outputs": [],
   "source": [
    "import ee\n",
    "ee.Initialize()\n",
    "\n",
    "import import_ipynb\n",
    "import ASTER_bare_emission  as ASTERGED\n",
    "\n",
    "def addBand(dynamic):\n",
    "    def wrap(image):\n",
    "        aster = ee.Image(\"NASA/ASTER_GED/AG100_003\") \\\n",
    "                  .clip(image.geometry())\n",
    "\n",
    "        orig = aster.select('emissivity_band10').multiply(0.001)\n",
    "        dynam = image.expression('fvc*0.99+(1-fvc)*em_bare',{\n",
    "                  'fvc':image.select('FVC'),\n",
    "                  'em_bare':ASTERGED.emiss_bare_band10(image)})\n",
    "        em10 = ee.Image(ee.Algorithms.If(dynamic,dynam,orig))\n",
    "\n",
    "        orig = aster.select('emissivity_band11').multiply(0.001)\n",
    "        dynam = image.expression('fvc*0.99+(1-fvc)*em_bare',{\n",
    "                  'fvc':image.select('FVC'),\n",
    "                  'em_bare':ASTERGED.emiss_bare_band11(image)})\n",
    "        em11 = ee.Image(ee.Algorithms.If(dynamic,dynam,orig))\n",
    "\n",
    "        orig = aster.select('emissivity_band12').multiply(0.001)\n",
    "        dynam = image.expression('fvc*0.99+(1-fvc)*em_bare',{\n",
    "                  'fvc':image.select('FVC'),\n",
    "                  'em_bare':ASTERGED.emiss_bare_band12(image)})\n",
    "        em12 = ee.Image(ee.Algorithms.If(dynamic,dynam,orig))\n",
    "\n",
    "        orig = aster.select('emissivity_band13').multiply(0.001)\n",
    "        dynam = image.expression('fvc*0.99+(1-fvc)*em_bare',{\n",
    "                  'fvc':image.select('FVC'),\n",
    "                  'em_bare':ASTERGED.emiss_bare_band13(image)})\n",
    "        em13 = ee.Image(ee.Algorithms.If(dynamic,dynam,orig))\n",
    "\n",
    "        orig = aster.select('emissivity_band14').multiply(0.001)\n",
    "        dynam = image.expression('fvc*0.99+(1-fvc)*em_bare',{\n",
    "                  'fvc':image.select('FVC'),\n",
    "                  'em_bare':ASTERGED.emiss_bare_band14(image)})\n",
    "        em14 = ee.Image(ee.Algorithms.If(dynamic,dynam,orig))\n",
    "\n",
    "        bbe = image.expression('0.128 + 0.014*em10 + 0.145*em11 + 0.241*em12 + 0.467*em13 + 0.004*em14',\n",
    "                {'em10':em10,'em11':em11,'em12':em12,'em13':em13,'em14':em14})\n",
    "        \n",
    "        return image.addBands(bbe.rename('BBE'))\n",
    "    return wrap"
   ]
  },
  {
   "cell_type": "code",
   "execution_count": null,
   "metadata": {},
   "outputs": [],
   "source": []
  },
  {
   "cell_type": "code",
   "execution_count": null,
   "metadata": {},
   "outputs": [],
   "source": []
  }
 ],
 "metadata": {
  "kernelspec": {
   "display_name": "Python 3",
   "language": "python",
   "name": "python3"
  },
  "language_info": {
   "codemirror_mode": {
    "name": "ipython",
    "version": 3
   },
   "file_extension": ".py",
   "mimetype": "text/x-python",
   "name": "python",
   "nbconvert_exporter": "python",
   "pygments_lexer": "ipython3",
   "version": "3.7.9"
  }
 },
 "nbformat": 4,
 "nbformat_minor": 4
}
