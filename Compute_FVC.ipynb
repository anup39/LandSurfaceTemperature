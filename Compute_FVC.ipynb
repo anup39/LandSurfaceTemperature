{
 "cells": [
  {
   "cell_type": "code",
   "execution_count": 2,
   "metadata": {},
   "outputs": [],
   "source": [
    "import ee\n",
    "ee.Initialize()\n",
    "\n",
    "def addBand(landsat):\n",
    "    def wrap(image):\n",
    "        ndvi = image.select('NDVI')\n",
    "\n",
    "    # Compute FVC\n",
    "        fvc = image.expression('((ndvi-ndvi_bg)/(ndvi_vg - ndvi_bg))**2',\n",
    "                                      {'ndvi':ndvi,'ndvi_bg':0.2,'ndvi_vg':0.86})\n",
    "        fvc = fvc.where(fvc.lt(0.0),0.0)\n",
    "        fvc = fvc.where(fvc.gt(1.0),1.0)\n",
    "        return image.addBands(fvc.rename('FVC'))\n",
    "    \n",
    "    return wrap\n"
   ]
  },
  {
   "cell_type": "code",
   "execution_count": null,
   "metadata": {},
   "outputs": [],
   "source": []
  }
 ],
 "metadata": {
  "kernelspec": {
   "display_name": "Python 3",
   "language": "python",
   "name": "python3"
  },
  "language_info": {
   "codemirror_mode": {
    "name": "ipython",
    "version": 3
   },
   "file_extension": ".py",
   "mimetype": "text/x-python",
   "name": "python",
   "nbconvert_exporter": "python",
   "pygments_lexer": "ipython3",
   "version": "3.7.9"
  }
 },
 "nbformat": 4,
 "nbformat_minor": 4
}
