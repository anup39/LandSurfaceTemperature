{
 "cells": [
  {
   "cell_type": "code",
   "execution_count": 2,
   "metadata": {},
   "outputs": [],
   "source": [
    "import ee\n",
    "ee.Initialize()\n",
    "\n",
    "def addBand(image):\n",
    "    date = ee.Date(image.get('system:time_start'))\n",
    "    year = ee.Number.parse(date.format('yyyy'))\n",
    "    month = ee.Number.parse(date.format('MM'))\n",
    "    day = ee.Number.parse(date.format('dd'))\n",
    "    date1 = ee.Date.fromYMD(year,month,day)\n",
    "    date2 = date1.advance(1,'days')\n",
    "\n",
    "  # function compute the time difference from landsat image\n",
    "    def datedist(image):\n",
    "        return image.set('DateDist',\n",
    "      ee.Number(image.get('system:time_start')) \\\n",
    "      .subtract(date.millis()).abs())\n",
    "    TPWcollection = ee.ImageCollection('NCEP_RE/surface_wv') \\\n",
    "                  .filter(ee.Filter.date(date1.format('yyyy-MM-dd'), date2.format('yyyy-MM-dd'))) \\\n",
    "                  .map(datedist)\n",
    "    closest = (TPWcollection.sort('DateDist')).toList(2)\n",
    "    tpw1 = ee.Image(ee.Algorithms.If(closest.size().eq(0), ee.Image.constant(-999.0),\n",
    "                      ee.Image(closest.get(0)).select('pr_wtr') ))\n",
    "    tpw2 = ee.Image(ee.Algorithms.If(closest.size().eq(0), ee.Image.constant(-999.0),\n",
    "                        ee.Algorithms.If(closest.size().eq(1), tpw1,\n",
    "                        ee.Image(closest.get(1)).select('pr_wtr') )))\n",
    "    time1 = ee.Number(ee.Algorithms.If(closest.size().eq(0), 1.0,\n",
    "                        ee.Number(tpw1.get('DateDist')).divide(ee.Number(21600000)) ))\n",
    "    time2 = ee.Number(ee.Algorithms.If(closest.size().lt(2), 0.0,\n",
    "                        ee.Number(tpw2.get('DateDist')).divide(ee.Number(21600000)) ))\n",
    "    tpw = tpw1.expression('tpw1*time2+tpw2*time1',\n",
    "                            {'tpw1':tpw1,\n",
    "                            'time1':time1,\n",
    "                            'tpw2':tpw2,\n",
    "                            'time2':time2\n",
    "                            }).clip(image.geometry())\n",
    "    pos = tpw.expression(\n",
    "    \"value = (TPW>0 && TPW<=6) ? 0\" + \\\n",
    "    \": (TPW>6 && TPW<=12) ? 1\" + \\\n",
    "    \": (TPW>12 && TPW<=18) ? 2\" + \\\n",
    "    \": (TPW>18 && TPW<=24) ? 3\" + \\\n",
    "    \": (TPW>24 && TPW<=30) ? 4\" + \\\n",
    "    \": (TPW>30 && TPW<=36) ? 5\" + \\\n",
    "    \": (TPW>36 && TPW<=42) ? 6\" + \\\n",
    "    \": (TPW>42 && TPW<=48) ? 7\" + \\\n",
    "    \": (TPW>48 && TPW<=54) ? 8\" + \\\n",
    "    \": (TPW>54) ? 9\" + \\\n",
    "    \": 0\",{'TPW': tpw}) \\\n",
    "    .clip(image.geometry())\n",
    "    \n",
    "    withTPW = (image.addBands(tpw.rename('TPW'),['TPW'])).addBands(pos.rename('TPWpos'),['TPWpos'])\n",
    "    \n",
    "    return withTPW"
   ]
  },
  {
   "cell_type": "code",
   "execution_count": null,
   "metadata": {},
   "outputs": [],
   "source": []
  }
 ],
 "metadata": {
  "kernelspec": {
   "display_name": "Python 3",
   "language": "python",
   "name": "python3"
  },
  "language_info": {
   "codemirror_mode": {
    "name": "ipython",
    "version": 3
   },
   "file_extension": ".py",
   "mimetype": "text/x-python",
   "name": "python",
   "nbconvert_exporter": "python",
   "pygments_lexer": "ipython3",
   "version": "3.7.9"
  }
 },
 "nbformat": 4,
 "nbformat_minor": 4
}
