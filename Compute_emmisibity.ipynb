{
 "cells": [
  {
   "cell_type": "code",
   "execution_count": 2,
   "metadata": {},
   "outputs": [],
   "source": [
    "import ee\n",
    "ee.Initialize()\n",
    "\n",
    "import import_ipynb\n",
    "import ASTER_bare_emission as ASTERGED\n",
    "\n",
    "\n",
    "\n",
    "def addBand(landsat, use_ndvi):\n",
    "    \n",
    "    def wrap(image):\n",
    "        \n",
    "        c13 = ee.Number(ee.Algorithms.If(landsat=='L4',0.3222,\n",
    "                            ee.Algorithms.If(landsat=='L5',-0.0723,\n",
    "                            ee.Algorithms.If(landsat=='L7',0.2147,\n",
    "                            0.6820))))\n",
    "        c14 = ee.Number(ee.Algorithms.If(landsat=='L4',0.6498,\n",
    "                            ee.Algorithms.If(landsat=='L5',1.0521,\n",
    "                            ee.Algorithms.If(landsat=='L7',0.7789,\n",
    "                            0.2578))))\n",
    "        c = ee.Number(ee.Algorithms.If(landsat=='L4',0.0272,\n",
    "                            ee.Algorithms.If(landsat=='L5',0.0195,\n",
    "                            ee.Algorithms.If(landsat=='L7',0.0059,\n",
    "                            0.0584))))\n",
    "\n",
    "        # get ASTER emissivity\n",
    "        # convolve to Landsat band\n",
    "        emiss_bare = image.expression('c13*EM13 + c14*EM14 + c',{\n",
    "              'EM13':ASTERGED.emiss_bare_band13(image),\n",
    "              'EM14':ASTERGED.emiss_bare_band14(image),\n",
    "              'c13':ee.Image(c13),\n",
    "              'c14':ee.Image(c14),\n",
    "              'c':ee.Image(c)\n",
    "                                  })\n",
    "\n",
    "        # compute the dynamic emissivity for Landsat\n",
    "        EMd = image.expression('fvc*0.99+(1-fvc)*em_bare',\n",
    "                  {'fvc':image.select('FVC'),'em_bare':emiss_bare})\n",
    "\n",
    "        # compute emissivity directly from ASTER\n",
    "        # without vegetation correction\n",
    "        # get ASTER emissivity\n",
    "        aster = ee.Image(\"NASA/ASTER_GED/AG100_003\") \\\n",
    "                      .clip(image.geometry())\n",
    "        EM0 = image.expression('c13*EM13 + c14*EM14 + c',{\n",
    "              'EM13':aster.select('emissivity_band13').multiply(0.001),\n",
    "              'EM14':aster.select('emissivity_band14').multiply(0.001),\n",
    "              'c13':ee.Image(c13),\n",
    "                'c14':ee.Image(c14),\n",
    "              'c':ee.Image(c)\n",
    "              })\n",
    "\n",
    "        # select which emissivity to output based on user selection\n",
    "        EM = ee.Image(ee.Algorithms.If(use_ndvi,EMd,EM0))\n",
    "        return image.addBands(EM.rename('EM'))\n",
    "    \n",
    "    return wrap\n"
   ]
  },
  {
   "cell_type": "code",
   "execution_count": null,
   "metadata": {},
   "outputs": [],
   "source": []
  }
 ],
 "metadata": {
  "kernelspec": {
   "display_name": "Python 3",
   "language": "python",
   "name": "python3"
  },
  "language_info": {
   "codemirror_mode": {
    "name": "ipython",
    "version": 3
   },
   "file_extension": ".py",
   "mimetype": "text/x-python",
   "name": "python",
   "nbconvert_exporter": "python",
   "pygments_lexer": "ipython3",
   "version": "3.7.9"
  }
 },
 "nbformat": 4,
 "nbformat_minor": 4
}
