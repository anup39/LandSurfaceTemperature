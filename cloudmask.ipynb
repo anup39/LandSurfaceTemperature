{
 "cells": [
  {
   "cell_type": "code",
   "execution_count": 2,
   "metadata": {},
   "outputs": [],
   "source": [
    "import ee\n",
    "\n",
    "def toa(image):\n",
    "    qa = image.select('BQA')\n",
    "    mask = qa.bitwiseAnd(1 << 4).eq(0)\n",
    "    return image.updateMask(mask)\n",
    "\n",
    "# cloudmask for SR data\n",
    "def sr(image):\n",
    "    qa = image.select('pixel_qa')\n",
    "    mask = qa.bitwiseAnd(1 << 3) \\\n",
    "            .Or(qa.bitwiseAnd(1 << 5))\n",
    "    return image.updateMask(mask.Not())"
   ]
  },
  {
   "cell_type": "code",
   "execution_count": null,
   "metadata": {},
   "outputs": [],
   "source": []
  }
 ],
 "metadata": {
  "kernelspec": {
   "display_name": "Python 3",
   "language": "python",
   "name": "python3"
  },
  "language_info": {
   "codemirror_mode": {
    "name": "ipython",
    "version": 3
   },
   "file_extension": ".py",
   "mimetype": "text/x-python",
   "name": "python",
   "nbconvert_exporter": "python",
   "pygments_lexer": "ipython3",
   "version": "3.8.3"
  }
 },
 "nbformat": 4,
 "nbformat_minor": 4
}
