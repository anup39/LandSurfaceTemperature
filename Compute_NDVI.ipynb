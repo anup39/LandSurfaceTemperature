{
 "cells": [
  {
   "cell_type": "code",
   "execution_count": 1,
   "metadata": {},
   "outputs": [],
   "source": [
    "import ee\n",
    "ee.Initialize()\n",
    "\n",
    "def addBand(landsat):\n",
    "    def wrap(image):\n",
    "        nir = ee.String(ee.Algorithms.If(landsat=='L8','B5','B4'))\n",
    "        red = ee.String(ee.Algorithms.If(landsat=='L8','B4','B3'))\n",
    "        \n",
    "        return image.addBands(image.expression('(nir-red)/(nir+red)',{\n",
    "                          'nir':image.select(nir).multiply(0.0001),\n",
    "                                      'red':image.select(red).multiply(0.0001)\n",
    "                                                                            }).rename('NDVI'))\n",
    "    return wrap"
   ]
  },
  {
   "cell_type": "code",
   "execution_count": null,
   "metadata": {},
   "outputs": [],
   "source": []
  }
 ],
 "metadata": {
  "kernelspec": {
   "display_name": "Python 3",
   "language": "python",
   "name": "python3"
  },
  "language_info": {
   "codemirror_mode": {
    "name": "ipython",
    "version": 3
   },
   "file_extension": ".py",
   "mimetype": "text/x-python",
   "name": "python",
   "nbconvert_exporter": "python",
   "pygments_lexer": "ipython3",
   "version": "3.7.9"
  }
 },
 "nbformat": 4,
 "nbformat_minor": 4
}
