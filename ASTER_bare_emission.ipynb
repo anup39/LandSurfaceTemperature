{
 "cells": [
  {
   "cell_type": "code",
   "execution_count": 4,
   "metadata": {},
   "outputs": [],
   "source": [
    "import ee\n",
    "import geemap\n",
    "ee.Initialize()\n",
    "\n",
    "\n",
    "\n",
    "aster = ee.Image(\"NASA/ASTER_GED/AG100_003\")\n",
    "\n",
    "#get ASTER FVC from NDVI\n",
    "aster_ndvi = aster.select('ndvi').multiply(0.01)\n",
    "\n",
    "aster_fvc = aster_ndvi.expression('((ndvi-ndvi_bg)/(ndvi_vg - ndvi_bg))**2',\n",
    "  {'ndvi':aster_ndvi,'ndvi_bg':0.2,'ndvi_vg':0.86})\n",
    "aster_fvc = aster_fvc.where(aster_fvc.lt(0.0),0.0)\n",
    "aster_fvc = aster_fvc.where(aster_fvc.gt(1.0),1.0)\n",
    "\n",
    "# bare ground emissivity functions for each band\n",
    "def emiss_bare_band10(image):\n",
    "    \n",
    "    return image.expression('(EM - 0.99*fvc)/(1.0-fvc)',{\n",
    "    'EM':aster.select('emissivity_band10').multiply(0.001),\n",
    "    'fvc':aster_fvc}) \\\n",
    "    .clip(image.geometry())\n",
    "\n",
    "def emiss_bare_band11(image):\n",
    "    \n",
    "    return image.expression('(EM - 0.99*fvc)/(1.0-fvc)',{\n",
    "    'EM':aster.select('emissivity_band11').multiply(0.001),\n",
    "    'fvc':aster_fvc}) \\\n",
    "    .clip(image.geometry())\n",
    "\n",
    "def emiss_bare_band12(image):\n",
    "    return image.expression('(EM - 0.99*fvc)/(1.0-fvc)',{\n",
    "    'EM':aster.select('emissivity_band12').multiply(0.001),\n",
    "    'fvc':aster_fvc}) \\\n",
    "    .clip(image.geometry())\n",
    "\n",
    "def emiss_bare_band13(image):\n",
    "    return image.expression('(EM - 0.99*fvc)/(1.0-fvc)',{\n",
    "    'EM':aster.select('emissivity_band13').multiply(0.001),\n",
    "    'fvc':aster_fvc}) \\\n",
    "    .clip(image.geometry())\n",
    "\n",
    "def emiss_bare_band14(image):\n",
    "    return image.expression('(EM - 0.99*fvc)/(1.0-fvc)',{\n",
    "    'EM':aster.select('emissivity_band14').multiply(0.001),\n",
    "    'fvc':aster_fvc}) \\\n",
    "    .clip(image.geometry())\n",
    "\n"
   ]
  },
  {
   "cell_type": "code",
   "execution_count": null,
   "metadata": {},
   "outputs": [],
   "source": []
  }
 ],
 "metadata": {
  "kernelspec": {
   "display_name": "Python 3",
   "language": "python",
   "name": "python3"
  },
  "language_info": {
   "codemirror_mode": {
    "name": "ipython",
    "version": 3
   },
   "file_extension": ".py",
   "mimetype": "text/x-python",
   "name": "python",
   "nbconvert_exporter": "python",
   "pygments_lexer": "ipython3",
   "version": "3.7.9"
  }
 },
 "nbformat": 4,
 "nbformat_minor": 4
}
