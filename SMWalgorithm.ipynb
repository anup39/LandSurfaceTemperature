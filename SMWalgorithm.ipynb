{
 "cells": [
  {
   "cell_type": "code",
   "execution_count": 3,
   "metadata": {},
   "outputs": [],
   "source": [
    "import ee\n",
    "ee.Initialize()\n",
    "\n",
    "import import_ipynb\n",
    "import  SMW_coefficients  as SMWcoef\n",
    "\n",
    "def get_lookup_table(fc, prop_1, prop_2):\n",
    "    reducer = ee.Reducer.toList().repeat(2)\n",
    "    lookup = fc.reduceColumns(reducer, [prop_1, prop_2])\n",
    "    return ee.List(lookup.get('list'))\n",
    "\n",
    "def addBand(landsat):\n",
    "    \n",
    "    def wrap(image):\n",
    "        coeff_SMW = ee.FeatureCollection(ee.Algorithms.If(landsat=='L4',SMWcoef.coeff_SMW_L4,\n",
    "                                        ee.Algorithms.If(landsat=='L5',SMWcoef.coeff_SMW_L5,\n",
    "                                        ee.Algorithms.If(landsat=='L7',SMWcoef.coeff_SMW_L7,\n",
    "                                        SMWcoef.coeff_SMW_L8))))\n",
    "\n",
    "   \n",
    "        A_lookup = get_lookup_table(coeff_SMW, 'TPWpos', 'A')\n",
    "        B_lookup = get_lookup_table(coeff_SMW, 'TPWpos', 'B')\n",
    "        C_lookup = get_lookup_table(coeff_SMW, 'TPWpos', 'C')\n",
    "\n",
    "        # Map coefficients to the image using the TPW bin position\n",
    "        A_img = image.remap(A_lookup.get(0), A_lookup.get(1),0.0,'TPWpos').resample('bilinear')\n",
    "        B_img = image.remap(B_lookup.get(0), B_lookup.get(1),0.0,'TPWpos').resample('bilinear')\n",
    "        C_img = image.remap(C_lookup.get(0), C_lookup.get(1),0.0,'TPWpos').resample('bilinear')\n",
    "\n",
    "        # select TIR band\n",
    "        tir = ee.String(ee.Algorithms.If(landsat=='L8','B10',\n",
    "                        ee.Algorithms.If(landsat=='L7','B6_VCID_1',\n",
    "                        'B6')))\n",
    "        # compute the LST\n",
    "        lst = image.expression(\n",
    "          'A*Tb1/em1 + B/em1 + C',\n",
    "         {'A': A_img,\n",
    "          'B': B_img,\n",
    "          'C': C_img,\n",
    "          'em1': image.select('EM'),\n",
    "          'Tb1': image.select(tir)\n",
    "         }).updateMask(image.select('TPW').lt(0).Not())\n",
    "        return image.addBands(lst.rename('LST'))\n",
    "    return wrap"
   ]
  },
  {
   "cell_type": "code",
   "execution_count": null,
   "metadata": {},
   "outputs": [],
   "source": []
  }
 ],
 "metadata": {
  "kernelspec": {
   "display_name": "Python 3",
   "language": "python",
   "name": "python3"
  },
  "language_info": {
   "codemirror_mode": {
    "name": "ipython",
    "version": 3
   },
   "file_extension": ".py",
   "mimetype": "text/x-python",
   "name": "python",
   "nbconvert_exporter": "python",
   "pygments_lexer": "ipython3",
   "version": "3.7.9"
  }
 },
 "nbformat": 4,
 "nbformat_minor": 4
}
